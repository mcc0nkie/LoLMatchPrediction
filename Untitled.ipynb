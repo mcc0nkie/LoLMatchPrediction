{
 "cells": [
  {
   "cell_type": "code",
   "execution_count": 1,
   "id": "2deb422d-c0e0-4770-90ff-7fe74a1e844a",
   "metadata": {},
   "outputs": [
    {
     "name": "stderr",
     "output_type": "stream",
     "text": [
      "Downloading Match Data: 10 calls [00:04,  2.44 calls/s]"
     ]
    },
    {
     "name": "stdout",
     "output_type": "stream",
     "text": [
      "Found 295 matches.\n"
     ]
    },
    {
     "name": "stderr",
     "output_type": "stream",
     "text": [
      "Downloading Match Data: 99 calls [00:44,  2.22 calls/s]\n",
      "Rate limited, waiting 76s: 100%|████████████████████████████████████████████████████████████████████████████████████████████████████████████████████████| 76/76 [01:16<00:00,  1.00s/it]\n",
      "Downloading Match Data: 100calls [00:46,  2.17calls/s]\n",
      "Rate limited, waiting -45s: 0it [00:00, ?it/s]\n",
      "Downloading Match Data: 1calls [00:00,  1.49calls/s] \n",
      "Rate limited, waiting 76s: 100%|████████████████████████████████████████████████████████████████████████████████████████████████████████████████████████| 76/76 [01:16<00:00,  1.00s/it]\n",
      "Downloading Match Data: 0calls [00:00, ?calls/s]\n",
      "Rate limited, waiting -45s: 0it [00:00, ?it/s]\n",
      "Downloading Match Data: 1calls [00:00, 15141.89calls/s]\n",
      "Rate limited, waiting 76s: 100%|████████████████████████████████████████████████████████████████████████████████████████████████████████████████████████| 76/76 [01:16<00:00,  1.00s/it]\n",
      "Downloading Match Data: 99calls [00:45,  2.18calls/s]\n",
      "Rate limited, waiting -243s: 0it [00:00, ?it/s]\n",
      "Downloading Match Data: 1calls [00:00,  3.06calls/s] \n",
      "Rate limited, waiting 77s: 100%|████████████████████████████████████████████████████████████████████████████████████████████████████████████████████████| 77/77 [01:17<00:00,  1.00s/it]\n",
      "Downloading Match Data: 0calls [00:00, ?calls/s]\n",
      "Rate limited, waiting -243s: 0it [00:00, ?it/s]\n",
      "Downloading Match Data: 1calls [00:00, 22795.13calls/s]\n",
      "Rate limited, waiting 77s: 100%|████████████████████████████████████████████████████████████████████████████████████████████████████████████████████████| 77/77 [01:17<00:00,  1.00s/it]\n",
      "Downloading Match Data: 99calls [00:46,  2.12calls/s]\n",
      "Rate limited, waiting -444s: 0it [00:00, ?it/s]\n",
      "Downloading Match Data: 1calls [00:00,  3.17calls/s] \n",
      "Rate limited, waiting 75s: 100%|████████████████████████████████████████████████████████████████████████████████████████████████████████████████████████| 75/75 [01:15<00:00,  1.00s/it]\n",
      "Downloading Match Data: 0calls [00:00, ?calls/s]\n",
      "Rate limited, waiting -445s: 0it [00:00, ?it/s]\n",
      "Downloading Match Data: 1calls [00:00, 38836.15calls/s]\n",
      "Rate limited, waiting 75s: 100%|████████████████████████████████████████████████████████████████████████████████████████████████████████████████████████| 75/75 [01:15<00:00,  1.00s/it]\n",
      "Downloading Match Data: 99calls [00:46,  2.13calls/s]\n",
      "Rate limited, waiting -641s: 0it [00:00, ?it/s]\n",
      "Downloading Match Data: 1calls [00:00,  3.13calls/s] \n",
      "Rate limited, waiting 76s: 100%|████████████████████████████████████████████████████████████████████████████████████████████████████████████████████████| 76/76 [01:16<00:00,  1.00s/it]\n",
      "Downloading Match Data: 0calls [00:00, ?calls/s]\n",
      "Rate limited, waiting -641s: 0it [00:00, ?it/s]\n",
      "Downloading Match Data: 1calls [00:00, 16384.00calls/s]\n",
      "Rate limited, waiting 76s: 100%|████████████████████████████████████████████████████████████████████████████████████████████████████████████████████████| 76/76 [01:16<00:00,  1.00s/it]\n",
      "Downloading Match Data: 99calls [00:47,  2.10calls/s]\n",
      "Rate limited, waiting -841s: 0it [00:00, ?it/s]\n",
      "Downloading Match Data: 0calls [00:00, ?calls/s]"
     ]
    },
    {
     "name": "stdout",
     "output_type": "stream",
     "text": [
      "Retrieved data for 295 matches.\n"
     ]
    },
    {
     "data": {
      "text/plain": [
       "<lol_match_predictor.api.data.MatchList at 0x7f85601d6650>"
      ]
     },
     "execution_count": 1,
     "metadata": {},
     "output_type": "execute_result"
    }
   ],
   "source": [
    "import lol_match_predictor\n",
    "summoner = lol_match_predictor.Summoner('GiveMeDaTaco', 'summonerName')\n",
    "summoner.get_summoner()\n",
    "summoner.get_matches()"
   ]
  },
  {
   "cell_type": "code",
   "execution_count": 5,
   "id": "7431bc77-c874-4b0d-89ec-c32fb94a49ab",
   "metadata": {},
   "outputs": [],
   "source": [
    "df = summoner.matches_to_df()"
   ]
  },
  {
   "cell_type": "code",
   "execution_count": 6,
   "id": "868c87fa-7c56-432d-a981-224da7b2e7ea",
   "metadata": {},
   "outputs": [],
   "source": [
    "import pandas as pd"
   ]
  },
  {
   "cell_type": "code",
   "execution_count": 7,
   "id": "368719f6-1160-47a9-b45a-c041d8f73210",
   "metadata": {},
   "outputs": [
    {
     "data": {
      "text/plain": [
       "Index(['matchId', 'puuid_of_reference', 'won', 'role'], dtype='object')"
      ]
     },
     "execution_count": 7,
     "metadata": {},
     "output_type": "execute_result"
    }
   ],
   "source": [
    "df.columns"
   ]
  },
  {
   "cell_type": "code",
   "execution_count": 9,
   "id": "095e595f-24fa-4e07-b9da-2ec7f38ced0e",
   "metadata": {},
   "outputs": [
    {
     "data": {
      "text/plain": [
       "won\n",
       "False    161\n",
       "True     134\n",
       "Name: count, dtype: int64"
      ]
     },
     "execution_count": 9,
     "metadata": {},
     "output_type": "execute_result"
    }
   ],
   "source": [
    "df['won'].value_counts()"
   ]
  },
  {
   "cell_type": "code",
   "execution_count": 11,
   "id": "5ab4a04d-4c2e-4e8e-9c7c-2239486ea254",
   "metadata": {},
   "outputs": [
    {
     "data": {
      "text/plain": [
       "0      NA1_4441001616\n",
       "1      NA1_4441086753\n",
       "2      NA1_4441528586\n",
       "3      NA1_4441827327\n",
       "4      NA1_4441831420\n",
       "            ...      \n",
       "290    NA1_4709585626\n",
       "291    NA1_4710469086\n",
       "292    NA1_4710516224\n",
       "293    NA1_4710645546\n",
       "294    NA1_4711675309\n",
       "Name: matchId, Length: 295, dtype: object"
      ]
     },
     "execution_count": 11,
     "metadata": {},
     "output_type": "execute_result"
    }
   ],
   "source": [
    "df['matchId']"
   ]
  },
  {
   "cell_type": "code",
   "execution_count": 2,
   "id": "918e6fdf-47d9-4bba-8838-69a302a0c817",
   "metadata": {},
   "outputs": [],
   "source": [
    "import lol_match_predictor\n",
    "sum_list = lol_match_predictor.SummonerList('NA1_4711675309')"
   ]
  },
  {
   "cell_type": "code",
   "execution_count": 3,
   "id": "a2fcccc1-6ee4-4d42-8c81-c40431b6eb23",
   "metadata": {},
   "outputs": [
    {
     "ename": "TypeError",
     "evalue": "unhashable type: 'dict'",
     "output_type": "error",
     "traceback": [
      "\u001b[0;31m---------------------------------------------------------------------------\u001b[0m",
      "\u001b[0;31mTypeError\u001b[0m                                 Traceback (most recent call last)",
      "Cell \u001b[0;32mIn[3], line 1\u001b[0m\n\u001b[0;32m----> 1\u001b[0m \u001b[43msum_list\u001b[49m\u001b[38;5;241;43m.\u001b[39;49m\u001b[43mget_summoners_from_match\u001b[49m\u001b[43m(\u001b[49m\u001b[43m)\u001b[49m\n",
      "File \u001b[0;32m~/Projects/riot_api/lol_match_predictor/api/data.py:20\u001b[0m, in \u001b[0;36mSummonerList.get_summoners_from_match\u001b[0;34m(self)\u001b[0m\n\u001b[1;32m     16\u001b[0m \u001b[38;5;28;01mdef\u001b[39;00m \u001b[38;5;21mget_summoners_from_match\u001b[39m(\u001b[38;5;28mself\u001b[39m):\n\u001b[1;32m     17\u001b[0m     params \u001b[38;5;241m=\u001b[39m {\n\u001b[1;32m     18\u001b[0m         \u001b[38;5;124m'\u001b[39m\u001b[38;5;124mapi_key\u001b[39m\u001b[38;5;124m'\u001b[39m: _RIOT_API_KEY\n\u001b[1;32m     19\u001b[0m     }\n\u001b[0;32m---> 20\u001b[0m     response \u001b[38;5;241m=\u001b[39m \u001b[43mratelimiter\u001b[49m\u001b[43m(\u001b[49m\u001b[38;5;28;43mself\u001b[39;49m\u001b[38;5;241;43m.\u001b[39;49m\u001b[43m_api_endpoint\u001b[49m\u001b[43m,\u001b[49m\u001b[43m \u001b[49m\u001b[43mparams\u001b[49m\u001b[38;5;241;43m=\u001b[39;49m\u001b[43mparams\u001b[49m\u001b[43m,\u001b[49m\u001b[43m \u001b[49m\u001b[43mname\u001b[49m\u001b[38;5;241;43m=\u001b[39;49m\u001b[38;5;124;43m\"\u001b[39;49m\u001b[38;5;124;43mRetrieving Summoners from Match\u001b[39;49m\u001b[38;5;124;43m\"\u001b[39;49m\u001b[43m,\u001b[49m\u001b[43m \u001b[49m\u001b[43mtotal\u001b[49m\u001b[38;5;241;43m=\u001b[39;49m\u001b[38;5;241;43m10\u001b[39;49m\u001b[43m)\u001b[49m\n\u001b[1;32m     21\u001b[0m     \u001b[38;5;28;01mif\u001b[39;00m response\u001b[38;5;241m.\u001b[39mstatus_code \u001b[38;5;241m!=\u001b[39m \u001b[38;5;241m200\u001b[39m:\n\u001b[1;32m     22\u001b[0m         \u001b[38;5;28mself\u001b[39m\u001b[38;5;241m.\u001b[39mbad_response \u001b[38;5;241m=\u001b[39m response\n",
      "\u001b[0;31mTypeError\u001b[0m: unhashable type: 'dict'"
     ]
    }
   ],
   "source": [
    "sum_list.get_summoners_from_match()"
   ]
  },
  {
   "cell_type": "code",
   "execution_count": null,
   "id": "026f4e3e-7852-4934-9945-b6fcca085ff3",
   "metadata": {},
   "outputs": [],
   "source": []
  }
 ],
 "metadata": {
  "kernelspec": {
   "display_name": "Python 3 (ipykernel)",
   "language": "python",
   "name": "python3"
  },
  "language_info": {
   "codemirror_mode": {
    "name": "ipython",
    "version": 3
   },
   "file_extension": ".py",
   "mimetype": "text/x-python",
   "name": "python",
   "nbconvert_exporter": "python",
   "pygments_lexer": "ipython3",
   "version": "3.11.2"
  }
 },
 "nbformat": 4,
 "nbformat_minor": 5
}
